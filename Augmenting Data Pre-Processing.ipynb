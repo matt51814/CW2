{
 "cells": [
  {
   "cell_type": "code",
   "execution_count": 1,
   "metadata": {},
   "outputs": [],
   "source": []
  },
  {
   "cell_type": "markdown",
   "metadata": {},
   "source": []
  },
  {
   "cell_type": "code",
   "execution_count": 1,
   "metadata": {},
   "outputs": [],
   "source": [
    "import cv2\n",
    "from torch.utils.data import DataLoader\n",
    "from torchvision.utils import save_image\n",
    "import matplotlib.pyplot as plt\n",
    "from random import randint\n",
    "import numpy as np"
   ]
  },
  {
   "cell_type": "markdown",
   "metadata": {},
   "source": [
    "We first use five transformations:   \n",
    "     flip horizontally   \n",
    "     flip vertically  \n",
    "     flip horizontally and vertically  \n",
    "     rotate 90 degrees clockwise  \n",
    "     rotate 90 degrees anti-clockwise  "
   ]
  },
  {
   "cell_type": "code",
   "execution_count": 3,
   "metadata": {},
   "outputs": [
    {
     "ename": "NameError",
     "evalue": "name 'TrainDataset' is not defined",
     "output_type": "error",
     "traceback": [
      "\u001b[1;31m---------------------------------------------------------------------------\u001b[0m",
      "\u001b[1;31mNameError\u001b[0m                                 Traceback (most recent call last)",
      "\u001b[1;32m<ipython-input-3-66db6e8becc5>\u001b[0m in \u001b[0;36m<module>\u001b[1;34m\u001b[0m\n\u001b[0;32m      6\u001b[0m \u001b[1;33m\u001b[0m\u001b[0m\n\u001b[0;32m      7\u001b[0m \u001b[0mdata_path\u001b[0m \u001b[1;33m=\u001b[0m \u001b[1;34m'./data/train'\u001b[0m\u001b[1;33m\u001b[0m\u001b[1;33m\u001b[0m\u001b[0m\n\u001b[1;32m----> 8\u001b[1;33m \u001b[0mtrain_set\u001b[0m \u001b[1;33m=\u001b[0m \u001b[0mTrainDataset\u001b[0m\u001b[1;33m(\u001b[0m\u001b[0mdata_path\u001b[0m\u001b[1;33m)\u001b[0m\u001b[1;33m\u001b[0m\u001b[1;33m\u001b[0m\u001b[0m\n\u001b[0m\u001b[0;32m      9\u001b[0m \u001b[0mtraining_data_loader\u001b[0m \u001b[1;33m=\u001b[0m \u001b[0mDataLoader\u001b[0m\u001b[1;33m(\u001b[0m\u001b[0mdataset\u001b[0m\u001b[1;33m=\u001b[0m\u001b[0mtrain_set\u001b[0m\u001b[1;33m,\u001b[0m \u001b[0mshuffle\u001b[0m\u001b[1;33m=\u001b[0m\u001b[1;32mFalse\u001b[0m\u001b[1;33m)\u001b[0m\u001b[1;33m\u001b[0m\u001b[1;33m\u001b[0m\u001b[0m\n\u001b[0;32m     10\u001b[0m \u001b[1;33m\u001b[0m\u001b[0m\n",
      "\u001b[1;31mNameError\u001b[0m: name 'TrainDataset' is not defined"
     ]
    }
   ],
   "source": [
    "import cv2\n",
    "from torch.utils.data import DataLoader\n",
    "from torchvision.utils import save_image\n",
    "import matplotlib.pyplot as plt\n",
    "from random import randint\n",
    "\n",
    "data_path = './data/train'\n",
    "train_set = TrainDataset(data_path)\n",
    "training_data_loader = DataLoader(dataset=train_set, shuffle=False)\n",
    "\n",
    "# CREATE LISTS TO STORE OUR AUGMENTED IMAGES AND MASKS\n",
    "augmentedimg = []\n",
    "augmentedmask = []\n",
    "\n",
    "for iteration, sample in enumerate(training_data_loader):\n",
    "        img, mask, name = sample\n",
    "        \n",
    "        # ADD THE ORIGINAL IMAGES AND MASKS TO THE NEW AUGMENTED LISTS\n",
    "        augmentedimg.append(img.numpy().reshape(96,96))\n",
    "        augmentedmask.append(mask.numpy().reshape(96,96))\n",
    "        \n",
    "        \n",
    "        # FLIP IMAGES/MASKS VERTICALLY AND ADD TO LISTS\n",
    "        img_flip_v = cv2.flip(img.numpy().reshape(96,96), 0)\n",
    "        mask_flip_v = cv2.flip(mask.numpy().reshape(96,96), 0)\n",
    "        augmentedimg.append(img_flip_v)\n",
    "        augmentedmask.append(mask_flip_v)\n",
    "        \n",
    "        #FLIP IMAGES/MASKS HORIZONTALLY AND ADD TO LISTS\n",
    "        img_flip_h = cv2.flip(img.numpy().reshape(96,96), 1)\n",
    "        mask_flip_h = cv2.flip(mask.numpy().reshape(96,96), 1)\n",
    "        augmentedimg.append(img_flip_h)\n",
    "        augmentedmask.append(mask_flip_h)\n",
    "        \n",
    "        \n",
    "        #FLIP IMAGES/MASKS HORIZONTALLY AND VERTICALLY AND ADD TO LISTS\n",
    "        img_flip_hv = cv2.flip(img.numpy().reshape(96,96), -1)\n",
    "        mask_flip_hv = cv2.flip(mask.numpy().reshape(96,96), -1)\n",
    "        augmentedimg.append(img_flip_hv)\n",
    "        augmentedmask.append(mask_flip_hv)\n",
    "        \n",
    "        #ROTATE IMAGES/MASKS 90 DEGREES CLOCKWISE AND ADD TO LISTS\n",
    "        img_rotate_90_clockwise = cv2.rotate(img.numpy().reshape(96,96), cv2.ROTATE_90_CLOCKWISE)\n",
    "        mask_rotate_90_clockwise = cv2.rotate(mask.numpy().reshape(96,96), cv2.ROTATE_90_CLOCKWISE)\n",
    "        augmentedimg.append(img_rotate_90_clockwise)\n",
    "        augmentedmask.append(mask_rotate_90_clockwise)\n",
    "        \n",
    "        #ROTATE IMAGES/MASKS 90 DEGREES COUNTERCLOCKWISE AND ADD TO LISTS     \n",
    "        img_rotate_90_counterclockwise = cv2.rotate(img.numpy().reshape(96,96), cv2.ROTATE_90_COUNTERCLOCKWISE)\n",
    "        mask_rotate_90_counterclockwise = cv2.rotate(mask.numpy().reshape(96,96), cv2.ROTATE_90_COUNTERCLOCKWISE)\n",
    "        augmentedimg.append(img_rotate_90_counterclockwise)\n",
    "        augmentedmask.append(mask_rotate_90_counterclockwise)\n",
    "        \n",
    "        \n",
    "        "
   ]
  },
  {
   "cell_type": "code",
   "execution_count": null,
   "metadata": {},
   "outputs": [],
   "source": [
    "# We use this to write the images and masks to premade folders\n",
    "for i in range(len(augmentedimg)):\n",
    "    cv2.imwrite('./data/train/augmentedBLUR300/image/cmr{}.png'.format(str(i+1)), augmentedimg[i])\n",
    "    cv2.imwrite('./data/train/augmentedBLUR300/mask/cmr{}_mask.png'.format(str(i+1)), augmentedmask[i])"
   ]
  },
  {
   "cell_type": "code",
   "execution_count": null,
   "metadata": {},
   "outputs": [],
   "source": [
    "# We check our images at random indexes\n",
    "for i in [2,77,142,282,200,106,9]:\n",
    "    plt.imshow(augmentedimg[i], cmap='gray')\n",
    "    plt.show()\n",
    "   "
   ]
  },
  {
   "cell_type": "code",
   "execution_count": null,
   "metadata": {},
   "outputs": [],
   "source": [
    "# We check our masks at random indexes\n",
    "for i in [2,77,142,282,200,106,9]:\n",
    "    plt.imshow(augmentedmask[i], cmap='gray')\n",
    "    plt.show()\n",
    "\n"
   ]
  },
  {
   "cell_type": "code",
   "execution_count": null,
   "metadata": {},
   "outputs": [],
   "source": [
    "# We check the lengths of our lists to see how many images we have generated\n",
    "print(len(augmentedimg))\n",
    "print(len(augmentedmask))"
   ]
  },
  {
   "cell_type": "markdown",
   "metadata": {},
   "source": [
    "We now add Gaussian noise creating a blur at even iterations, applying gaussian noise of intensity between integers 0-10  \n",
    "where 0 is a small amount of blur and 10 is greater. This results in 600 CMR images and masks where 100 are the original images  and 500 are the augmented images with 250 of those having blurring applied to only the CMR images."
   ]
  },
  {
   "cell_type": "code",
   "execution_count": null,
   "metadata": {},
   "outputs": [],
   "source": [
    "data_path = './data/train'\n",
    "train_set = TrainDataset(data_path)\n",
    "training_data_loader = DataLoader(dataset=train_set, shuffle=False)\n",
    "\n",
    "# CREATE LISTS TO STORE OUR AUGMENTED IMAGES AND MASKS\n",
    "augmentedimg = []\n",
    "augmentedmask = []\n",
    "\n",
    "# WE LOAD EACH SAMPLE FROM THE ORIGINAL TRAINING SET\n",
    "for iteration, sample in enumerate(training_data_loader):\n",
    "        img, mask, name = sample\n",
    "        \n",
    "        # ADD THE ORIGINAL IMAGES AND MASKS TO THE NEW AUGMENTED LISTS\n",
    "        augmentedimg.append(img.numpy().reshape(96,96))\n",
    "        augmentedmask.append(mask.numpy().reshape(96,96))\n",
    "        \n",
    "        \n",
    "        # FLIP IMAGES/MASKS VERTICALLY AND ADD TO LISTS\n",
    "        img_flip_v = cv2.flip(img.numpy().reshape(96,96), 0)\n",
    "        mask_flip_v = cv2.flip(mask.numpy().reshape(96,96), 0)\n",
    "        augmentedmask.append(mask_flip_v)\n",
    "        \n",
    "        #FLIP IMAGES/MASKS HORIZONTALLY AND ADD TO LISTS\n",
    "        img_flip_h = cv2.flip(img.numpy().reshape(96,96), 1)\n",
    "        mask_flip_h = cv2.flip(mask.numpy().reshape(96,96), 1)\n",
    "        augmentedmask.append(mask_flip_h)\n",
    "        \n",
    "        \n",
    "        #FLIP IMAGES/MASKS HORIZONTALLY AND VERTICALLY AND ADD TO LISTS\n",
    "        img_flip_hv = cv2.flip(img.numpy().reshape(96,96), -1)\n",
    "        mask_flip_hv = cv2.flip(mask.numpy().reshape(96,96), -1)\n",
    "        augmentedmask.append(mask_flip_hv)\n",
    "        \n",
    "        #ROTATE IMAGES/MASKS 90 DEGREES CLOCKWISE AND ADD TO LISTS\n",
    "        img_rotate_90_clockwise = cv2.rotate(img.numpy().reshape(96,96), cv2.ROTATE_90_CLOCKWISE)\n",
    "        mask_rotate_90_clockwise = cv2.rotate(mask.numpy().reshape(96,96), cv2.ROTATE_90_CLOCKWISE)\n",
    "        augmentedmask.append(mask_rotate_90_clockwise)\n",
    "        \n",
    "        #ROTATE IMAGES/MASKS 90 DEGREES COUNTERCLOCKWISE AND ADD TO LISTS     \n",
    "        img_rotate_90_counterclockwise = cv2.rotate(img.numpy().reshape(96,96), cv2.ROTATE_90_COUNTERCLOCKWISE)\n",
    "        mask_rotate_90_counterclockwise = cv2.rotate(mask.numpy().reshape(96,96), cv2.ROTATE_90_COUNTERCLOCKWISE)\n",
    "        augmentedmask.append(mask_rotate_90_counterclockwise)\n",
    "        \n",
    "        \n",
    "        \n",
    "        # ADD GAUSSIAN NOISE (BLUR) OF RANDOM INTENSITY (0-10) TO HALF THE GENERATED IMAGES\n",
    "        if iteration%2==0:\n",
    "            augmentedimg.append(gaussian_blur(img_flip_v,randint(0,10)))\n",
    "            augmentedimg.append(gaussian_blur(img_flip_h,randint(0,10)))\n",
    "            augmentedimg.append(gaussian_blur(img_flip_hv,randint(0,10)))\n",
    "            augmentedimg.append(gaussian_blur(img_rotate_90_clockwise,randint(0,10)))\n",
    "            augmentedimg.append(gaussian_blur(img_rotate_90_counterclockwise,randint(0,10)))\n",
    "        else:\n",
    "            augmentedimg.append(img_flip_v)\n",
    "            augmentedimg.append(img_flip_h)\n",
    "            augmentedimg.append(img_flip_hv)\n",
    "            augmentedimg.append(img_rotate_90_clockwise)\n",
    "            augmentedimg.append(img_rotate_90_counterclockwise)                  \n",
    "        "
   ]
  }
 ],
 "metadata": {
  "kernelspec": {
   "display_name": "Python 3",
   "language": "python",
   "name": "python3"
  },
  "language_info": {
   "codemirror_mode": {
    "name": "ipython",
    "version": 3
   },
   "file_extension": ".py",
   "mimetype": "text/x-python",
   "name": "python",
   "nbconvert_exporter": "python",
   "pygments_lexer": "ipython3",
   "version": "3.8.3"
  }
 },
 "nbformat": 4,
 "nbformat_minor": 4
}
